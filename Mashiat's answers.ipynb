{
 "cells": [
  {
   "cell_type": "markdown",
   "metadata": {},
   "source": []
  },
  {
   "cell_type": "markdown",
   "metadata": {},
   "source": [
    "**Mashiat's answers**\n",
    "\n",
    "*What was your biggest challenge in this project? (regarding writing code and not only)*\n",
    "There were a number of challenges that I faced among which the most difficult challenge  for me was to organise my code into functions and avoid hard coding. However, my group mates did an excellent job in organising the code into functions which allowed me to learn from them. \n",
    "\n",
    "*What did you learn while working on this project? (regarding writing code and not only)*\n",
    "I was able to learn how to use sklearn to do clustering. I am familiar with clustering algorithms but I have not applied them on python before. Getting familiar with sklearn helped me to understand how to do clustering on high dimensional data on python. I also learned how to organise my code into functions and document them so that they are easy to read. \n",
    "\n",
    "*If you had more time on the project what other question(s) would you like to answer? (at least one question is required)*\n",
    "I would like to answer, how to project the results from clustering algorithms on two dimensions with methods such as tSNE (T-distributed stochastic neighbor embedding) and UMAP(Uniform Manifold approximation and projection).\n"
   ]
  }
 ],
 "metadata": {
  "kernelspec": {
   "display_name": "Python 3",
   "language": "python",
   "name": "python3"
  },
  "language_info": {
   "codemirror_mode": {
    "name": "ipython",
    "version": 3
   },
   "file_extension": ".py",
   "mimetype": "text/x-python",
   "name": "python",
   "nbconvert_exporter": "python",
   "pygments_lexer": "ipython3",
   "version": "3.7.4"
  }
 },
 "nbformat": 4,
 "nbformat_minor": 4
}
